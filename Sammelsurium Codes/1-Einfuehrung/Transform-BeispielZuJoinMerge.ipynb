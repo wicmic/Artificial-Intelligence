{
 "cells": [
  {
   "cell_type": "markdown",
   "metadata": {},
   "source": [
    "# 1. Extract"
   ]
  },
  {
   "cell_type": "code",
   "execution_count": null,
   "metadata": {},
   "outputs": [],
   "source": [
    "import pandas as pd\n",
    "person = pd.read_csv(\"Persons.csv\")"
   ]
  },
  {
   "cell_type": "code",
   "execution_count": null,
   "metadata": {},
   "outputs": [],
   "source": [
    "#anschauen....\n",
    "person"
   ]
  },
  {
   "cell_type": "code",
   "execution_count": null,
   "metadata": {},
   "outputs": [],
   "source": [
    "wohnort = pd.read_csv(\"Cities.csv\")\n"
   ]
  },
  {
   "cell_type": "code",
   "execution_count": null,
   "metadata": {},
   "outputs": [],
   "source": [
    "#anschauen...\n",
    "wohnort"
   ]
  },
  {
   "cell_type": "markdown",
   "metadata": {},
   "source": [
    "# 2. Transform\n",
    "## 2.1 Zusammenführen zweier Tabellen"
   ]
  },
  {
   "cell_type": "code",
   "execution_count": null,
   "metadata": {},
   "outputs": [],
   "source": [
    "dataframe = person.merge(right=wohnort, how='left', left_on='City-ID', right_on='Stadt-ID')"
   ]
  },
  {
   "cell_type": "code",
   "execution_count": null,
   "metadata": {},
   "outputs": [],
   "source": [
    "dataframe\n"
   ]
  },
  {
   "cell_type": "code",
   "execution_count": null,
   "metadata": {},
   "outputs": [],
   "source": [
    "#Iteration\n",
    "for index, row in dataframe.iterrows():\n",
    "    print(str(index)+' : '+row['Name']+'/'+str(row['Alter']))\n"
   ]
  },
  {
   "cell_type": "markdown",
   "metadata": {},
   "source": [
    "## 2.2 Änderungen an Daten (z.B. für Korrekturen)"
   ]
  },
  {
   "cell_type": "code",
   "execution_count": null,
   "metadata": {},
   "outputs": [],
   "source": [
    "#Manipulation eines df mit \"at[Zeile, Spalte]\" funktioniert\n",
    "dataframe.at[0, 'Name'] = \"Rolf\"\n",
    "#Aus Peter wird Rolf"
   ]
  },
  {
   "cell_type": "code",
   "execution_count": null,
   "metadata": {},
   "outputs": [],
   "source": [
    "dataframe"
   ]
  },
  {
   "cell_type": "markdown",
   "metadata": {},
   "source": [
    "## 2.3 Verändern der Daten (...ab 50 ist man \"alt\")"
   ]
  },
  {
   "cell_type": "code",
   "execution_count": null,
   "metadata": {},
   "outputs": [],
   "source": [
    "for index, row in dataframe.iterrows():\n",
    "    if (int(row[\"Alter\"]) > 50):\n",
    "        dataframe.at[index, \"Altersklasse\"] = \"alt\"\n",
    "    else:\n",
    "        dataframe.at[index, \"Altersklasse\"] = \"jung\"\n",
    "dataframe"
   ]
  },
  {
   "cell_type": "markdown",
   "metadata": {},
   "source": [
    "## 2.4 Nur bestimmte Spalten ausgeben (Projektion)"
   ]
  },
  {
   "cell_type": "code",
   "execution_count": null,
   "metadata": {},
   "outputs": [],
   "source": [
    "# schöne Ausgabe:\n",
    "ausgabe = dataframe[['Name', 'Geschlecht', 'Alter', 'Altersklasse', 'Nationalität', 'Gehalt', 'Wohnort']]\n",
    "ausgabe"
   ]
  },
  {
   "cell_type": "markdown",
   "metadata": {},
   "source": [
    "## 2.5 Nur bestimmte Zeilen ausgeben \n",
    "### (Selektion mit logischen Operatoren wie '=', '&', '<', usw.)"
   ]
  },
  {
   "cell_type": "code",
   "execution_count": null,
   "metadata": {},
   "outputs": [],
   "source": [
    "#Abfrage / Selektion: \"Gib alle alten aus\":\n",
    "alte = ausgabe[ausgabe['Altersklasse']=='alt']\n",
    "alte"
   ]
  },
  {
   "cell_type": "code",
   "execution_count": null,
   "metadata": {},
   "outputs": [],
   "source": [
    "#Abfrage / Selektion: \"Gib alle Schweizer aus\":\n",
    "schweizer = ausgabe[(ausgabe['Nationalität']=='schweizerisch')]\n",
    "schweizer"
   ]
  },
  {
   "cell_type": "code",
   "execution_count": null,
   "metadata": {},
   "outputs": [],
   "source": [
    "#Abfrage / Selektion: \"Gib alle alten Schweizer aus\":\n",
    "alteschweizer = ausgabe[(ausgabe['Altersklasse']=='alt') & (ausgabe['Nationalität']=='schweizerisch')]\n",
    "alteschweizer"
   ]
  },
  {
   "cell_type": "code",
   "execution_count": null,
   "metadata": {},
   "outputs": [],
   "source": [
    "# .... wobei das alte ∩ schweizer auch einfacher geht: \n",
    "alte.merge(schweizer)"
   ]
  }
 ],
 "metadata": {
  "kernelspec": {
   "display_name": "Python 3",
   "language": "python",
   "name": "python3"
  },
  "language_info": {
   "codemirror_mode": {
    "name": "ipython",
    "version": 3
   },
   "file_extension": ".py",
   "mimetype": "text/x-python",
   "name": "python",
   "nbconvert_exporter": "python",
   "pygments_lexer": "ipython3",
   "version": "3.8.5"
  }
 },
 "nbformat": 4,
 "nbformat_minor": 4
}
