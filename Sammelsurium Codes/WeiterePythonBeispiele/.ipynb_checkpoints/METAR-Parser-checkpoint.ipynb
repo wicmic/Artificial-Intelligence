{
 "cells": [
  {
   "cell_type": "code",
   "execution_count": null,
   "metadata": {},
   "outputs": [],
   "source": [
    "!pip install pylunar"
   ]
  },
  {
   "cell_type": "code",
   "execution_count": null,
   "metadata": {},
   "outputs": [],
   "source": [
    "!pip install PythonMETAR"
   ]
  },
  {
   "cell_type": "code",
   "execution_count": null,
   "metadata": {},
   "outputs": [],
   "source": [
    "import pylunar\n",
    "mi = pylunar.MoonInfo((48, 30, 00), (10, 0, 0))"
   ]
  },
  {
   "cell_type": "code",
   "execution_count": null,
   "metadata": {},
   "outputs": [],
   "source": [
    "import numpy as np\n",
    "for i in np.arange(1,30):\n",
    "    mi.update((2021, 11, i, 12, 0, 0))\n",
    "    print(\"d:\", i, \"Ph:\", mi.fractional_phase(), \" age: \", mi.age())\n",
    "    #mi.age()\n",
    "    #mi.fractional_phase()"
   ]
  },
  {
   "cell_type": "code",
   "execution_count": null,
   "metadata": {},
   "outputs": [],
   "source": [
    "import pandas as pd\n",
    "df = pd.read_csv(\"metars2.csv\")\n",
    "df.head()"
   ]
  },
  {
   "cell_type": "code",
   "execution_count": null,
   "metadata": {},
   "outputs": [],
   "source": [
    "for index, row in df.iterrows():\n",
    "    token = row[\"METAR\"]\n",
    "    for token in tokens:\n",
    "        if (re.match('[0-9]{6}Z', token)):\n",
    "            print(\"Zeit: \", token)\n",
    "            print(\"Tag: \", int(token[0:2]))\n",
    "            print(\"Stunde: \", int(token[2:4]))\n",
    "            print(\"Minute: \", int(token[4:6]))\n",
    "        if (re.match('[0-9G]{5,9}KT', token)):\n",
    "            print(\"Wind: \", token)\n",
    "            if (re.match('[G]*', token)):\n",
    "                print(\"Boe: \", token)\n",
    "        if (re.match('[0-9]{3}V[0-9]{3}', token)):\n",
    "            print(\"Windvariabilität: \", token)\n",
    "        if (token == \"CAVOK\"):\n",
    "            print(\"CAVOK: True -Sicht... kein Wetter....\")\n",
    "        if (re.match('[M0-9]{2,3}/[M0-9]{2,3}', token)):\n",
    "            print(\"Temperatur: \", token)\n",
    "        if (re.match('Q[0-9]{3,4}[=]{0,1}', token)):\n",
    "            print(\"QNH: \", token)\n",
    "        if (re.match('[-RTASHDZN]', token)):\n",
    "            print(\"Wetter: \", token)\n",
    "        if (re.findall('FEW', token)):\n",
    "            print(\"Wolken: \", token)\n",
    "        if (re.findall('SCT', token)):\n",
    "            print(\"Wolken: \", token)\n",
    "        if (re.findall('BKN', token)):\n",
    "            print(\"Wolken: \", token)\n",
    "        if (re.findall('OVC', token)):\n",
    "            print(\"Wolken: \", token)"
   ]
  },
  {
   "cell_type": "code",
   "execution_count": null,
   "metadata": {},
   "outputs": [],
   "source": []
  },
  {
   "cell_type": "code",
   "execution_count": null,
   "metadata": {},
   "outputs": [],
   "source": [
    "for index, row in df.iterrows():\n",
    "    if not pd.isna(row[\"METAR\"]):\n",
    "        print(row[\"METAR\"])\n",
    "        metar = MetarParser().parse(row[\"METAR\"].strip('METAR ').strip('COR '))\n",
    "        df.at[index, \"windspeed\"] = metar.wind.speed\n",
    "        df.at[index, \"temperature\"] = metar.temperature\n",
    "        if (metar.cavok):\n",
    "            df.at[index, \"visibility\"] = 9999\n",
    "        else:\n",
    "            if (hasattr(metar, 'visibilty')):\n",
    "                if (metar.visibility.distance == \"> 10km\"):\n",
    "                    df.at[index, \"visibility\"] = 9999\n",
    "                else:\n",
    "                    df.at[index, \"visibility\"] = re.sub(\"[ A-Za-z]*$\", '', metar.visibility.distance.strip('> '))\n",
    "            else:\n",
    "                print(\"###\", re.findall(\"KT [0-9]*\",row[\"METAR\"])[0].strip('KT '))\n",
    "        df.at[index, \"weatherconditions\"] = len(metar._weather_conditions)\n",
    "    else:\n",
    "        print(\"###\",row[\"METAR\"])"
   ]
  },
  {
   "cell_type": "code",
   "execution_count": null,
   "metadata": {},
   "outputs": [],
   "source": [
    "r = re.findall(\"KT [0-9]*\", 'METAR EDDS 231250Z 33009KT 3500W -SHSN FEW015CB SCT020 BKN050 02/M03 Q1017 BECMG 9999='.strip('> '))\n",
    "r          "
   ]
  },
  {
   "cell_type": "code",
   "execution_count": null,
   "metadata": {},
   "outputs": [],
   "source": [
    "import sys\n",
    "for index, row in df.iterrows():\n",
    "    try:\n",
    "        if not pd.isna(row[\"METAR\"]):\n",
    "            #print(row[\"METAR\"])\n",
    "            if ((int(row[\"windspeed\"]) > 17) |\n",
    "                int(row[\"temperature\"]) < 14 |\n",
    "                int(row[\"visibility\"]) < 2000 |\n",
    "                int(row[\"weatherconditions\"]) > 0):\n",
    "                df.at[index, \"evaluation\"] = 0\n",
    "            else:\n",
    "                df.at[index, \"evaluation\"] = 1\n",
    "            df.at[index, \"error\"] = 0\n",
    "    except BaseException as err:\n",
    "            print(row[\"METAR\"], \" Unexpected \",err, \"type: \", type(err))\n",
    "            df.at[index, \"error\"] = 1"
   ]
  },
  {
   "cell_type": "code",
   "execution_count": null,
   "metadata": {},
   "outputs": [],
   "source": [
    "df[df[\"error\"] == 1]"
   ]
  },
  {
   "cell_type": "code",
   "execution_count": 280,
   "metadata": {},
   "outputs": [
    {
     "data": {
      "text/plain": [
       "'100 BURBURYRD.'"
      ]
     },
     "execution_count": 280,
     "metadata": {},
     "output_type": "execute_result"
    }
   ],
   "source": [
    "s = '100 BURBURYROAD'\n",
    "re.sub('ROAD$', 'RD.', s)"
   ]
  },
  {
   "cell_type": "code",
   "execution_count": 286,
   "metadata": {},
   "outputs": [
    {
     "data": {
      "text/plain": [
       "'100 BURBURYGust: $1'"
      ]
     },
     "execution_count": 286,
     "metadata": {},
     "output_type": "execute_result"
    }
   ],
   "source": [
    "s = '100 BURBURYG10'\n",
    "re.sub('G[0-9]*$', 'Gust: $1', s)"
   ]
  },
  {
   "cell_type": "code",
   "execution_count": 279,
   "metadata": {},
   "outputs": [
    {
     "data": {
      "text/plain": [
       "'34010G25KT'"
      ]
     },
     "execution_count": 279,
     "metadata": {},
     "output_type": "execute_result"
    }
   ],
   "source": [
    "s = '34010G25KT'\n",
    "re.sub(\"G$KT\", '$', s)"
   ]
  },
  {
   "cell_type": "code",
   "execution_count": 260,
   "metadata": {},
   "outputs": [
    {
     "data": {
      "text/plain": [
       "'10'"
      ]
     },
     "execution_count": 260,
     "metadata": {},
     "output_type": "execute_result"
    }
   ],
   "source": [
    "re.sub(\"[ A-Za-z]*$\", '', '10m'.strip('> '))"
   ]
  },
  {
   "cell_type": "code",
   "execution_count": null,
   "metadata": {},
   "outputs": [],
   "source": [
    "#m = 'METAR EDDS 231920Z 25007KTG10 300V360 CAVOK M01/M05 Q1017 NOSIG='\n",
    "m = 'METAR EDDS 251720Z 25007G31KT 300V360 8000W -SHSN BR DZ -RADZ FEW006 BKN027 BKN060 M03/M05 Q1016='\n",
    "tokens = m.split(' ')"
   ]
  },
  {
   "cell_type": "code",
   "execution_count": null,
   "metadata": {},
   "outputs": [],
   "source": [
    "for token in tokens:\n",
    "    if (re.match('[0-9]{6}Z', token)):\n",
    "        print(\"Zeit: \", token)\n",
    "    if (re.match('[0-9G]{5,9}KT', token)):\n",
    "        print(\"Wind: \", token)\n",
    "        if (re.match('[G]*', token)):\n",
    "            print(\"Boe: \", token)\n",
    "    if (re.match('[0-9]{3}V[0-9]{3}', token)):\n",
    "        print(\"Windvariabilität: \", token)\n",
    "    if (token == \"CAVOK\"):\n",
    "        print(\"CAVOK: True -Sicht... kein Wetter....\")\n",
    "    if (re.match('[M0-9]{2,3}/[M0-9]{2,3}', token)):\n",
    "        print(\"Temperatur: \", token)\n",
    "    if (re.match('Q[0-9]{3,4}[=]{0,1}', token)):\n",
    "        print(\"QNH: \", token)\n",
    "    if (re.match('[-RTASHDZN]', token)):\n",
    "        print(\"Wetter: \", token)\n",
    "    if (re.findall('FEW', token)):\n",
    "        print(\"Wolken: \", token)\n",
    "    if (re.findall('SCT', token)):\n",
    "        print(\"Wolken: \", token)\n",
    "    if (re.findall('BKN', token)):\n",
    "        print(\"Wolken: \", token)\n",
    "    if (re.findall('OVC', token)):\n",
    "        print(\"Wolken: \", token)"
   ]
  },
  {
   "cell_type": "code",
   "execution_count": null,
   "metadata": {},
   "outputs": [],
   "source": []
  },
  {
   "cell_type": "code",
   "execution_count": null,
   "metadata": {},
   "outputs": [],
   "source": []
  }
 ],
 "metadata": {
  "kernelspec": {
   "display_name": "Python 3",
   "language": "python",
   "name": "python3"
  },
  "language_info": {
   "codemirror_mode": {
    "name": "ipython",
    "version": 3
   },
   "file_extension": ".py",
   "mimetype": "text/x-python",
   "name": "python",
   "nbconvert_exporter": "python",
   "pygments_lexer": "ipython3",
   "version": "3.8.5"
  }
 },
 "nbformat": 4,
 "nbformat_minor": 4
}
