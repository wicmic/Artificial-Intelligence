{
 "cells": [
  {
   "cell_type": "code",
   "execution_count": 69,
   "metadata": {},
   "outputs": [
    {
     "name": "stdout",
     "output_type": "stream",
     "text": [
      "Year:  2005  Month:  1\n",
      "http://www.ogimet.com/display_metars2.php?lang=en&lugar=edds&tipo=ALL&ord=DIR&nil=NO&fmt=txt&ano=2005&mes=1&day=01&hora=01&anof=2005&mesf=1&dayf=31&horaf=23&minf=59&send=send\n",
      "-->Staus-Code:  200\n"
     ]
    }
   ],
   "source": [
    "import requests\n",
    "import numpy as np\n",
    "import re\n",
    "\n",
    "f = open(\"metars2.csv\", \"a\")\n",
    "f.write(\"Year,Month,METAR\\n\")\n",
    "for y in np.arange(2005,2006,1):    \n",
    "    for m in np.arange(1,2,1):\n",
    "        print(\"Year: \", y, \" Month: \", m)\n",
    "        url = \"http://www.ogimet.com/display_metars2.php?lang=en&lugar=edds&tipo=ALL&ord=DIR&nil=NO&fmt=txt&ano=\"+str(y)+\"&mes=\"+str(m)+\"&day=01&hora=01&anof=\"+str(y)+\"&mesf=\"+str(m)+\"&dayf=31&horaf=23&minf=59&send=send\"\n",
    "        print(url)\n",
    "        r = requests.get(url)\n",
    "        print(\"-->Staus-Code: \", r.status_code)\n",
    "        re_search_chunk = re.findall('METAR.*?=', r.text)\n",
    "        for metar in re_search_chunk:\n",
    "            f.write(str(y)+\",\"+str(m)+\",\"+metar+\"\\n\")\n",
    "            #print(str(y)+\",\"+str(m)+\",\"+metar+\"\\n\")\n",
    "\n",
    "f.close()\n",
    "    "
   ]
  },
  {
   "cell_type": "code",
   "execution_count": null,
   "metadata": {},
   "outputs": [],
   "source": []
  }
 ],
 "metadata": {
  "kernelspec": {
   "display_name": "Python 3",
   "language": "python",
   "name": "python3"
  },
  "language_info": {
   "codemirror_mode": {
    "name": "ipython",
    "version": 3
   },
   "file_extension": ".py",
   "mimetype": "text/x-python",
   "name": "python",
   "nbconvert_exporter": "python",
   "pygments_lexer": "ipython3",
   "version": "3.8.5"
  }
 },
 "nbformat": 4,
 "nbformat_minor": 4
}
