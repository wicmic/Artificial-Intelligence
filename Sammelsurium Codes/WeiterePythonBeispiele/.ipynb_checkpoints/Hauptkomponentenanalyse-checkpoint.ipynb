{
 "cells": [
  {
   "cell_type": "markdown",
   "metadata": {},
   "source": [
    "# Principal Components Analysis vs. Linear Regression"
   ]
  },
  {
   "cell_type": "code",
   "execution_count": 53,
   "metadata": {},
   "outputs": [],
   "source": [
    "import numpy as np\n",
    "random_state = np. random . RandomState (0)\n",
    "n_samples = 400\n",
    "cov = [[3 , 3], [3, 4]]\n",
    "X = random_state . multivariate_normal ( mean =[0 , 0], cov=cov , size = n_samples )\n",
    "\n"
   ]
  },
  {
   "cell_type": "code",
   "execution_count": 54,
   "metadata": {},
   "outputs": [
    {
     "data": {
      "text/plain": [
       "array([[-3.12306216e+00, -3.26740225e+00],\n",
       "       [-2.77595836e+00, -9.29100996e-01],\n",
       "       [-2.58241628e+00, -4.07234479e+00],\n",
       "       [-1.49245333e+00, -1.92036067e+00],\n",
       "       [-4.15286751e-02,  3.81165522e-01],\n",
       "       [-9.89592957e-01,  3.55482720e-01],\n",
       "       [-1.32100251e+00, -1.43191096e+00],\n",
       "       [-9.06203041e-01, -7.20142632e-01],\n",
       "       [-2.36396538e+00, -3.00551409e+00],\n",
       "       [-7.62211620e-02, -9.84821384e-01],\n",
       "       [ 3.88279978e+00,  5.26829472e+00],\n",
       "       [-1.04556829e+00, -2.01182629e+00],\n",
       "       [-3.00079377e+00, -5.06607288e+00],\n",
       "       [ 2.10761911e-02, -1.71234929e-01],\n",
       "       [-3.29321300e+00, -2.34804458e+00],\n",
       "       [-4.51562515e-01, -1.36846726e-01],\n",
       "       [ 2.49119905e+00,  8.65460061e-01],\n",
       "       [ 4.94370320e-01,  7.47393098e-01],\n",
       "       [-2.65519066e+00, -1.87460115e+00],\n",
       "       [ 7.96527805e-01,  6.23543696e-01],\n",
       "       [ 2.46720579e+00,  1.42467068e+00],\n",
       "       [ 1.81274588e+00,  4.18372319e+00],\n",
       "       [ 1.06891015e+00,  8.02830954e-01],\n",
       "       [ 1.66934093e+00,  2.78517594e+00],\n",
       "       [ 2.77798674e+00,  3.05641311e+00],\n",
       "       [ 1.28044097e+00,  1.91687181e+00],\n",
       "       [ 1.45451647e+00,  4.80038054e-01],\n",
       "       [-1.74740779e-01,  2.42493347e-01],\n",
       "       [-2.66260337e-01,  2.59327960e-03],\n",
       "       [ 1.23608479e+00,  1.07910134e+00],\n",
       "       [ 1.29748689e+00,  1.15492419e+00],\n",
       "       [ 2.23629246e+00,  8.31209841e-01],\n",
       "       [-8.57053517e-02, -5.22121996e-01],\n",
       "       [ 2.45587308e+00,  3.38392294e+00],\n",
       "       [ 1.47308267e+00,  1.79333954e+00],\n",
       "       [-1.27196441e+00, -1.36636685e+00],\n",
       "       [-1.24556159e+00, -2.76407649e+00],\n",
       "       [-3.11281334e-01, -1.08493821e+00],\n",
       "       [ 1.73868905e+00,  1.44598657e+00],\n",
       "       [ 4.86029119e-01,  6.32583174e-01],\n",
       "       [ 1.46071622e+00,  2.66812331e+00],\n",
       "       [ 2.39976012e-02, -1.58121086e+00],\n",
       "       [-3.44000209e+00, -2.07444278e+00],\n",
       "       [-1.85575848e+00, -2.37915863e+00],\n",
       "       [ 1.22527853e+00,  2.55115326e+00],\n",
       "       [ 3.48513142e-02,  1.32190948e+00],\n",
       "       [-8.48971809e-01,  2.10576333e-02],\n",
       "       [-9.54242521e-01, -3.86161199e-01],\n",
       "       [-9.40167277e-01,  7.61245519e-01],\n",
       "       [-4.17527154e-01, -7.17056884e-02],\n",
       "       [-2.41675586e+00, -4.26494634e+00],\n",
       "       [ 1.59942169e+00,  2.90370138e+00],\n",
       "       [ 9.35056943e-01,  3.14015059e+00],\n",
       "       [ 1.07001582e+00,  4.79994864e-01],\n",
       "       [-3.94398561e+00, -3.10456760e+00],\n",
       "       [-3.55558295e+00, -3.24795219e+00],\n",
       "       [ 4.36774412e-01,  2.51679056e+00],\n",
       "       [ 2.84053545e-02,  8.74273618e-01],\n",
       "       [-1.48587663e+00, -1.91642430e+00],\n",
       "       [-1.49171136e+00, -7.94700347e-01],\n",
       "       [-5.42069005e-02, -1.21584317e+00],\n",
       "       [-1.17842076e+00, -1.41026174e-03],\n",
       "       [ 1.22556356e+00,  1.28995555e+00],\n",
       "       [-2.36180327e-01,  1.65869203e+00],\n",
       "       [-1.32196871e+00, -1.13362959e+00],\n",
       "       [ 9.94162094e-01,  1.73854620e+00],\n",
       "       [ 1.09834315e+00,  1.32989983e+00],\n",
       "       [ 7.01633896e-01,  1.53695750e+00],\n",
       "       [-8.45572612e-01, -1.21640185e+00],\n",
       "       [-8.98537318e-02, -1.25128111e+00],\n",
       "       [ 2.23826605e+00,  3.10253991e+00],\n",
       "       [-6.03679081e-01, -4.72899771e-02],\n",
       "       [-4.42779763e+00, -4.23729851e+00],\n",
       "       [ 9.31862871e-01,  2.27033725e+00],\n",
       "       [ 2.41394074e+00,  2.36595433e+00],\n",
       "       [-7.72516360e-01,  8.83162662e-01],\n",
       "       [ 1.65825489e+00,  1.09163569e+00],\n",
       "       [ 5.05597056e-01, -9.82960436e-02],\n",
       "       [-1.30449738e+00, -2.67136341e+00],\n",
       "       [ 2.12320194e+00,  2.04764708e+00],\n",
       "       [-1.73707285e-01,  1.81653697e+00],\n",
       "       [-1.61480029e+00, -1.81447945e+00],\n",
       "       [ 1.58955535e+00,  2.76105537e+00],\n",
       "       [ 2.45175860e+00,  1.27573065e+00],\n",
       "       [-2.12779594e+00, -2.17971470e+00],\n",
       "       [-1.68703756e+00, -1.65754667e+00],\n",
       "       [-1.08008919e+00, -1.95708908e+00],\n",
       "       [ 1.35758710e+00,  2.31669177e+00],\n",
       "       [ 1.68448747e+00,  1.26602205e+00],\n",
       "       [ 7.44043644e-01,  8.96627177e-01],\n",
       "       [ 1.29568993e+00,  8.89593755e-02],\n",
       "       [ 2.21290896e+00,  2.82767979e-01],\n",
       "       [-2.05790226e-01, -1.92142030e+00],\n",
       "       [ 1.79878539e+00,  2.17804888e+00],\n",
       "       [ 4.25309634e-01,  2.11869423e+00],\n",
       "       [ 1.99932801e+00,  2.63991966e+00],\n",
       "       [ 6.68527786e-01, -4.34653564e-01],\n",
       "       [-7.76425902e-01, -1.09627099e+00],\n",
       "       [-1.70143344e+00, -1.14568065e+00],\n",
       "       [-4.26683186e+00, -3.63653139e+00],\n",
       "       [ 7.34016594e-01,  6.15677392e-01],\n",
       "       [-2.15652433e+00, -1.85916474e+00],\n",
       "       [-2.22724268e-01, -1.95701947e+00],\n",
       "       [ 4.21576447e-01, -2.75588634e-01],\n",
       "       [-4.12047725e-01, -5.89239253e-01],\n",
       "       [-1.66860181e+00, -1.63736545e+00],\n",
       "       [-1.05892717e+00, -1.73869394e+00],\n",
       "       [ 1.77322038e+00,  1.66360300e+00],\n",
       "       [-1.67780486e-01,  1.99183140e-01],\n",
       "       [-3.71320093e+00, -4.42756001e+00],\n",
       "       [ 1.75912416e+00,  1.71408762e+00],\n",
       "       [ 5.17611100e-01,  1.11547275e+00],\n",
       "       [ 2.51452012e+00,  3.03457176e+00],\n",
       "       [-3.78707315e-01, -2.03790421e-01],\n",
       "       [ 1.11040963e+00,  1.06152146e+00],\n",
       "       [ 2.60913606e+00,  2.56312529e+00],\n",
       "       [ 6.82461197e-01,  1.24151855e+00],\n",
       "       [ 1.50770682e+00,  2.59825791e+00],\n",
       "       [-1.40102791e+00, -3.82260363e+00],\n",
       "       [-1.05445808e+00, -5.35542184e-01],\n",
       "       [ 1.25907727e+00,  1.07006492e+00],\n",
       "       [ 3.73551862e-01,  1.28964472e-01],\n",
       "       [ 1.37689069e+00, -1.30602305e-01],\n",
       "       [-2.46287633e+00, -1.77619999e+00],\n",
       "       [ 2.10237683e+00,  9.45384052e-01],\n",
       "       [-5.63886550e-01, -1.26890502e+00],\n",
       "       [-6.96677649e-02, -4.16803866e-01],\n",
       "       [-1.50223176e+00, -1.04542897e+00],\n",
       "       [ 1.91436309e+00,  8.10464518e-01],\n",
       "       [ 2.30147652e+00,  3.35630300e+00],\n",
       "       [ 2.22728023e+00,  2.09821919e+00],\n",
       "       [ 1.01297531e+00,  1.14070194e+00],\n",
       "       [ 3.10346505e+00,  3.86130303e+00],\n",
       "       [-9.11774456e-01, -9.83672885e-01],\n",
       "       [ 4.63620329e-01,  6.49332654e-01],\n",
       "       [ 7.72981666e-01, -1.99240107e+00],\n",
       "       [-3.43504024e+00, -3.64622407e+00],\n",
       "       [ 1.28056298e+00,  1.10204785e+00],\n",
       "       [-7.56248153e-01, -1.01436436e+00],\n",
       "       [ 2.29029895e+00,  4.86659871e+00],\n",
       "       [-3.44408365e-01,  6.62285510e-01],\n",
       "       [ 3.50191817e-01,  2.02306639e+00],\n",
       "       [-7.87983167e-01, -2.92290689e-01],\n",
       "       [ 1.10215585e+00,  2.56998134e+00],\n",
       "       [-1.81309126e+00, -7.76324135e-01],\n",
       "       [ 1.28689964e+00,  1.01515679e+00],\n",
       "       [-3.26104123e+00, -4.96012012e+00],\n",
       "       [-3.62714501e-01,  7.62963230e-01],\n",
       "       [-4.62784975e-01,  6.44675114e-02],\n",
       "       [ 4.69141576e-01,  9.41514607e-01],\n",
       "       [ 1.30311725e+00,  3.27551974e+00],\n",
       "       [ 5.46812989e-01, -6.71389494e-02],\n",
       "       [-8.63582113e-01, -1.50212560e+00],\n",
       "       [ 2.90165104e+00,  2.01431375e+00],\n",
       "       [-1.06447342e+00, -1.42375555e+00],\n",
       "       [-3.35867890e-01,  7.32685059e-01],\n",
       "       [ 2.24040339e+00,  1.87916857e+00],\n",
       "       [ 5.87520153e-01,  7.92397466e-01],\n",
       "       [ 2.17959432e-01, -4.32823233e-02],\n",
       "       [ 1.57326934e-01,  7.32933235e-02],\n",
       "       [ 1.60972909e+00,  1.04843996e+00],\n",
       "       [ 6.53658985e-03, -9.25705156e-01],\n",
       "       [ 2.07468255e+00,  2.12188868e+00],\n",
       "       [-9.05460316e-01,  1.29553348e+00],\n",
       "       [ 6.77584889e-01,  1.78812658e+00],\n",
       "       [-6.20873281e-01, -1.97858679e+00],\n",
       "       [-6.66579608e-01, -2.02723536e+00],\n",
       "       [ 4.08277880e+00,  5.45480630e+00],\n",
       "       [ 2.66978662e+00,  3.62402633e+00],\n",
       "       [ 2.73254721e-01,  2.06129565e+00],\n",
       "       [-1.53215755e+00, -2.28366854e+00],\n",
       "       [ 1.76446446e+00,  8.10878474e-01],\n",
       "       [ 8.73790388e-01,  7.37743493e-01],\n",
       "       [ 5.21929548e-01,  7.80297493e-01],\n",
       "       [-1.13707429e+00, -9.75934451e-01],\n",
       "       [ 2.00621154e+00,  8.61863683e-01],\n",
       "       [-1.89955438e+00, -2.96469212e+00],\n",
       "       [ 1.34766942e+00,  1.04481475e+00],\n",
       "       [ 3.29390164e+00,  3.38754200e+00],\n",
       "       [ 4.72399336e-01,  1.20760480e+00],\n",
       "       [-1.15662144e+00, -1.36139503e+00],\n",
       "       [-1.71617915e+00, -1.66969658e+00],\n",
       "       [-5.72307569e-02,  1.01047534e-01],\n",
       "       [ 5.19213579e-01,  1.99222986e-01],\n",
       "       [ 1.02548557e+00,  2.87154871e-02],\n",
       "       [ 4.95549301e-02, -9.82008685e-01],\n",
       "       [-1.26246282e+00, -1.75164783e+00],\n",
       "       [-3.37003118e-01,  1.19579274e-01],\n",
       "       [-2.51927587e-01, -1.94294963e+00],\n",
       "       [-1.12764606e-01,  7.89058786e-01],\n",
       "       [ 2.60714999e+00,  3.48339530e+00],\n",
       "       [ 4.25720337e+00,  3.95416864e+00],\n",
       "       [ 7.92207593e-01, -8.00588574e-01],\n",
       "       [ 2.38976118e+00,  1.27896108e+00],\n",
       "       [-2.80951891e+00, -3.14446269e+00],\n",
       "       [-8.22768523e-01, -1.20454478e+00],\n",
       "       [ 1.41956216e+00, -1.78604963e-02],\n",
       "       [ 8.75942836e-01,  2.36192245e-01],\n",
       "       [-2.00793867e+00, -1.17474739e+00],\n",
       "       [-2.86505068e+00, -2.48885107e+00],\n",
       "       [ 1.56629556e+00,  6.79812614e-01],\n",
       "       [-1.45153592e+00, -1.34018888e+00],\n",
       "       [ 2.74001882e+00,  3.60692588e+00],\n",
       "       [-1.37699348e+00, -1.56374933e+00],\n",
       "       [ 7.23260780e-01,  7.59869340e-03],\n",
       "       [ 1.97784093e+00,  3.17324373e+00],\n",
       "       [ 6.31659432e-01,  5.01043420e-01],\n",
       "       [-3.21819461e+00, -3.08179218e+00],\n",
       "       [-6.86446443e-01, -6.61483172e-01],\n",
       "       [-3.40137928e+00, -2.21356136e+00],\n",
       "       [-1.83748759e+00, -1.55907839e+00],\n",
       "       [ 3.39881794e+00,  4.14179484e+00],\n",
       "       [ 1.66541510e-01,  2.95031474e-01],\n",
       "       [-1.43354300e-01, -3.03961340e+00],\n",
       "       [ 8.01706207e-01,  1.22916415e+00],\n",
       "       [ 1.50393281e+00,  2.90825344e-01],\n",
       "       [-1.57961738e+00, -1.57459412e+00],\n",
       "       [ 1.44273242e+00,  2.03292590e+00],\n",
       "       [-1.36096102e+00, -1.60101545e+00],\n",
       "       [-1.36391409e+00, -1.52805258e+00],\n",
       "       [ 1.25248804e+00,  2.63775174e-01],\n",
       "       [ 4.16621632e-02,  2.52743342e-01],\n",
       "       [-1.38842688e+00, -1.75958231e+00],\n",
       "       [-2.57746891e-01, -1.31489441e+00],\n",
       "       [ 1.35086531e+00,  1.47898698e+00],\n",
       "       [ 1.31964211e+00,  2.41716779e+00],\n",
       "       [-9.09852692e-01, -7.81633449e-01],\n",
       "       [-1.60459767e+00,  2.23305099e-01],\n",
       "       [ 1.91266110e+00, -4.86530523e-02],\n",
       "       [-3.03330139e-01, -4.11087099e-01],\n",
       "       [ 1.36133888e+00,  5.81476061e-01],\n",
       "       [ 6.32355175e-01,  9.36460485e-01],\n",
       "       [-4.15337093e-01,  2.03726474e+00],\n",
       "       [ 1.99770900e+00,  1.52725880e+00],\n",
       "       [ 3.65354379e+00,  4.57634678e+00],\n",
       "       [ 3.61222716e+00,  3.69889876e+00],\n",
       "       [ 8.22468192e-01,  2.27301504e-01],\n",
       "       [-3.38849458e+00, -2.95814601e+00],\n",
       "       [-1.72479572e+00, -2.96057279e+00],\n",
       "       [-2.12206261e+00, -1.98534538e+00],\n",
       "       [-1.80720979e+00, -1.05478547e+00],\n",
       "       [ 1.72160271e+00,  1.58772171e+00],\n",
       "       [-5.37912699e-02, -2.84581923e+00],\n",
       "       [-2.78761706e+00, -2.71114918e+00],\n",
       "       [-3.83857189e-02,  1.85715427e-01],\n",
       "       [ 1.88349022e+00,  1.85674622e+00],\n",
       "       [-2.48968817e+00, -1.57902673e+00],\n",
       "       [-4.41913520e+00, -5.29406588e+00],\n",
       "       [ 1.35442324e+00,  1.06007455e+00],\n",
       "       [ 1.72323258e+00,  1.95263859e+00],\n",
       "       [-6.15030306e-01, -7.61894941e-01],\n",
       "       [-1.69142899e+00, -2.24205540e+00],\n",
       "       [ 8.74754807e-01,  4.23612176e-01],\n",
       "       [ 3.50914210e+00,  2.49983620e+00],\n",
       "       [ 1.27687210e+00,  2.87081720e+00],\n",
       "       [-2.19050533e+00, -1.14524017e+00],\n",
       "       [ 3.21962400e+00,  1.73808939e+00],\n",
       "       [ 1.00033903e+00,  1.36506805e+00],\n",
       "       [-1.36593935e+00, -5.14465604e-01],\n",
       "       [-1.37044982e+00,  2.08051101e-01],\n",
       "       [ 8.39819866e-01,  3.47311675e-02],\n",
       "       [ 3.23870657e+00,  2.89178004e+00],\n",
       "       [ 5.89627293e-02, -8.61518631e-01],\n",
       "       [-2.27838954e+00, -1.20983771e+00],\n",
       "       [ 3.47086547e+00,  5.00249623e+00],\n",
       "       [ 3.49499499e+00,  4.54635815e+00],\n",
       "       [-2.05844013e+00, -2.36195667e+00],\n",
       "       [ 2.41806058e+00,  2.24106223e+00],\n",
       "       [ 5.26717033e-01,  4.30828786e-01],\n",
       "       [ 3.92203765e-01,  3.47855649e-01],\n",
       "       [ 2.71583386e-01, -9.45642215e-01],\n",
       "       [-3.84426234e-01,  1.13689865e+00],\n",
       "       [ 8.65229196e-01,  5.56356960e-01],\n",
       "       [-4.60048598e-01, -3.22435454e+00],\n",
       "       [-1.62650507e+00, -2.58207724e+00],\n",
       "       [-3.20774777e-01, -2.77745005e-01],\n",
       "       [-1.41979247e+00, -1.95637072e+00],\n",
       "       [ 4.50263291e-01,  1.89128503e+00],\n",
       "       [ 3.89788926e+00,  4.62260834e+00],\n",
       "       [ 2.62188470e+00,  2.29712247e+00],\n",
       "       [-3.30191850e+00, -3.94450722e+00],\n",
       "       [ 5.98098382e-01, -1.16053115e+00],\n",
       "       [ 1.10367280e+00,  1.50877737e+00],\n",
       "       [-9.05239485e-01, -4.22280687e-01],\n",
       "       [-2.86581152e-01,  2.13850286e-01],\n",
       "       [ 1.95296119e-01, -1.68649943e+00],\n",
       "       [-4.57973492e-01,  2.63920054e-01],\n",
       "       [-7.87159479e-01, -1.31042941e+00],\n",
       "       [ 1.90970561e+00,  1.08266443e+00],\n",
       "       [-3.68838440e-01,  7.51740831e-01],\n",
       "       [ 3.56766098e+00,  3.52010690e+00],\n",
       "       [ 1.47868523e+00,  2.56793785e+00],\n",
       "       [ 1.15956318e+00,  8.75726285e-01],\n",
       "       [ 1.28508858e-01,  6.18342933e-01],\n",
       "       [ 2.22271498e+00, -5.67649869e-01],\n",
       "       [-1.12505612e+00, -8.68094180e-01],\n",
       "       [ 9.23091893e-01, -4.60834151e-02],\n",
       "       [-7.77516132e-01, -5.20497862e-01],\n",
       "       [ 8.89038468e-01,  8.22402825e-01],\n",
       "       [ 1.62999478e+00,  1.73703460e+00],\n",
       "       [ 2.34749307e+00,  3.20835209e+00],\n",
       "       [ 1.43817325e+00,  1.94716983e+00],\n",
       "       [ 2.62920397e+00,  2.48546147e+00],\n",
       "       [ 1.04078820e+00, -5.11323822e-01],\n",
       "       [ 5.55632402e-03, -3.90677971e-01],\n",
       "       [ 3.55384398e+00,  2.82975067e+00],\n",
       "       [-1.46312893e+00, -7.88882130e-01],\n",
       "       [ 8.91658680e-03,  4.34598994e-01],\n",
       "       [-5.40378260e-01, -2.92545595e-01],\n",
       "       [-1.34725056e+00, -3.16927444e+00],\n",
       "       [-9.20914320e-01, -1.48733781e+00],\n",
       "       [ 5.26920422e-01,  3.05338401e-01],\n",
       "       [ 1.25379401e+00,  1.95355234e-01],\n",
       "       [-1.16651473e+00,  3.73640572e-01],\n",
       "       [ 9.35134780e-02,  1.08937836e-01],\n",
       "       [ 1.19692895e+00,  1.28984790e+00],\n",
       "       [-5.79340808e-01, -1.07179589e+00],\n",
       "       [ 5.41840168e-01,  1.06212548e+00],\n",
       "       [ 1.38715185e+00,  1.90202130e+00],\n",
       "       [-2.05885987e+00, -1.00556984e+00],\n",
       "       [-5.57258074e-01,  7.75025278e-01],\n",
       "       [-1.19529133e+00, -2.45473684e+00],\n",
       "       [ 2.17105046e+00,  2.24332545e+00],\n",
       "       [-1.66365923e+00, -2.03961975e+00],\n",
       "       [ 1.90905767e-01,  1.85165862e+00],\n",
       "       [ 7.24811775e-01, -1.57570004e+00],\n",
       "       [-7.93041912e-01, -3.91302428e-01],\n",
       "       [-6.05349650e-01, -2.43423085e-01],\n",
       "       [ 7.92470219e-01, -4.45817844e-01],\n",
       "       [ 1.10146508e+00,  3.09504063e-01],\n",
       "       [ 2.19464782e+00,  1.26736455e+00],\n",
       "       [-7.98629973e-01, -8.40184228e-01],\n",
       "       [ 1.07642737e+00,  5.90361558e-01],\n",
       "       [-5.18927367e-01,  5.18110739e-01],\n",
       "       [ 3.11857967e+00,  4.07621747e+00],\n",
       "       [ 1.87597604e+00,  2.40014553e-01],\n",
       "       [ 3.68825112e+00,  3.39750136e+00],\n",
       "       [-5.65994566e-01, -2.56317909e-01],\n",
       "       [ 1.02677924e+00,  2.27761611e+00],\n",
       "       [-2.55711176e+00, -2.60358504e+00],\n",
       "       [ 3.96674343e-01,  1.64632447e+00],\n",
       "       [-1.69701588e+00, -1.09446799e+00],\n",
       "       [ 2.54994334e+00,  4.03138627e-02],\n",
       "       [-2.66704347e+00, -4.83607394e+00],\n",
       "       [-1.17106632e+00,  1.11193514e+00],\n",
       "       [-1.03700373e+00, -2.29606093e-01],\n",
       "       [ 3.40229653e+00,  2.15379556e+00],\n",
       "       [ 3.17031030e-01,  1.51703285e+00],\n",
       "       [ 9.83022095e-01,  3.27869632e-01],\n",
       "       [-8.86340843e-01,  8.72649126e-02],\n",
       "       [ 3.01426231e+00,  2.28991841e+00],\n",
       "       [ 7.38179392e-01,  2.01825599e+00],\n",
       "       [-1.48994431e+00,  4.75059837e-01],\n",
       "       [-1.52997538e+00, -1.84284497e+00],\n",
       "       [-2.20068328e+00, -2.37623181e+00],\n",
       "       [ 8.13997496e-01,  1.67330881e+00],\n",
       "       [ 1.30120708e+00,  1.23177128e+00],\n",
       "       [-2.14272414e+00, -2.63551475e+00],\n",
       "       [ 1.56767062e+00,  1.36408151e+00],\n",
       "       [-1.40368703e+00, -2.23589980e+00],\n",
       "       [ 9.03248210e-01,  5.31609555e-01],\n",
       "       [-1.04868031e-01, -5.27674340e-01],\n",
       "       [ 3.10654868e+00,  2.73764873e+00],\n",
       "       [ 8.99607223e-01,  2.36458985e+00],\n",
       "       [-1.64694683e+00, -1.32887756e+00],\n",
       "       [ 1.25698862e+00,  6.29111722e-01],\n",
       "       [ 1.38255182e+00,  5.29981573e-01],\n",
       "       [-2.96809284e+00, -5.85616383e+00],\n",
       "       [-2.68641780e-01, -1.66296029e+00],\n",
       "       [ 6.83026251e-01, -2.28854836e-01],\n",
       "       [ 2.53599958e+00,  1.79905117e+00],\n",
       "       [-2.83258298e+00, -3.48308551e+00],\n",
       "       [ 9.78650280e-01,  1.73756192e+00],\n",
       "       [-3.89170687e-01,  2.94986543e-01],\n",
       "       [ 2.85893759e+00,  3.69295176e+00],\n",
       "       [-4.18806924e-01, -2.23525945e+00],\n",
       "       [-1.61741003e+00, -1.32180793e-01],\n",
       "       [-3.99880858e-01,  3.88552334e-01],\n",
       "       [-7.42983437e-01, -1.61832389e+00],\n",
       "       [ 7.43968264e-01, -7.63532170e-01],\n",
       "       [ 6.08795200e-01,  9.97022796e-01],\n",
       "       [-1.20813048e+00, -1.40036383e+00],\n",
       "       [-6.20357878e-01, -1.88783466e+00],\n",
       "       [ 1.58161347e-01,  2.06902429e-01],\n",
       "       [-2.94703485e+00, -3.70324271e+00],\n",
       "       [ 8.13929788e-01,  9.83181809e-01],\n",
       "       [ 1.41985544e+00,  1.87803344e+00],\n",
       "       [ 1.52912939e+00, -7.17164673e-02],\n",
       "       [ 2.60937244e-01, -2.46672354e-02],\n",
       "       [ 2.73337386e+00,  3.15630248e+00],\n",
       "       [-2.73154034e+00, -2.67829970e+00],\n",
       "       [-3.18435009e-01, -1.78140051e+00],\n",
       "       [-8.65105179e-01, -8.65690197e-01],\n",
       "       [-1.09298908e+00, -8.47437787e-01],\n",
       "       [ 2.26935043e+00,  2.63550229e+00],\n",
       "       [ 1.27877411e+00,  1.45706858e+00],\n",
       "       [ 8.05372192e-01,  2.32579936e+00],\n",
       "       [ 1.88454131e+00,  1.28279504e+00],\n",
       "       [ 4.33262516e-01, -6.17039060e-01],\n",
       "       [ 1.13090914e+00,  4.65430614e-01]])"
      ]
     },
     "execution_count": 54,
     "metadata": {},
     "output_type": "execute_result"
    }
   ],
   "source": [
    "X"
   ]
  },
  {
   "cell_type": "code",
   "execution_count": 55,
   "metadata": {},
   "outputs": [],
   "source": [
    "#n_samples = 6\n",
    "\n",
    "#Ein gedachtes y, das von beiden Komponenten mehr oder weniger linear abhängig ist.\n",
    "y = X[:,0]*2+X[:,1]*3 + random_state.normal( size = n_samples ) / 2\n",
    "\n"
   ]
  },
  {
   "cell_type": "code",
   "execution_count": 57,
   "metadata": {},
   "outputs": [
    {
     "data": {
      "text/plain": [
       "<matplotlib.collections.PathCollection at 0xd1303d0>"
      ]
     },
     "execution_count": 57,
     "metadata": {},
     "output_type": "execute_result"
    },
    {
     "data": {
      "image/png": "[encoded data removed]",
      "text/plain": [
       "<Figure size 432x288 with 1 Axes>"
      ]
     },
     "metadata": {
      "image/png": {
       "height": 251,
       "width": 370
      },
      "needs_background": "light"
     },
     "output_type": "display_data"
    }
   ],
   "source": [
    "%matplotlib inline\n",
    "%config InlineBackend.figure_formats = set([\"retina\"])\n",
    "import requests\n",
    "import matplotlib.pyplot as plt\n",
    "#plt.plot(df['id'], df['QNH'])\n",
    "plt.scatter(X[:,0], X[:,1])\n"
   ]
  },
  {
   "cell_type": "code",
   "execution_count": 58,
   "metadata": {},
   "outputs": [],
   "source": [
    "from sklearn . decomposition import PCA\n",
    "pca = PCA( n_components =2).fit(X)"
   ]
  },
  {
   "cell_type": "code",
   "execution_count": 59,
   "metadata": {},
   "outputs": [],
   "source": [
    "# Das Folgende geht so nicht...\n",
    "#y = X.dot(pca.components_ [1]) + random_state.normal( size = n_samples ) / 2\n",
    "#...Man kann doch aus einem Modell keine Testdaten erzeugen, und dann behaupten, dass just dieses Modell besser sei."
   ]
  },
  {
   "cell_type": "code",
   "execution_count": 60,
   "metadata": {},
   "outputs": [
    {
     "data": {
      "text/plain": [
       "<matplotlib.collections.PathCollection at 0xd462640>"
      ]
     },
     "execution_count": 60,
     "metadata": {},
     "output_type": "execute_result"
    },
    {
     "data": {
      "image/png": "[encoded data removed]",
      "text/plain": [
       "<Figure size 432x288 with 1 Axes>"
      ]
     },
     "metadata": {
      "image/png": {
       "height": 248,
       "width": 377
      },
      "needs_background": "light"
     },
     "output_type": "display_data"
    }
   ],
   "source": [
    "plt.scatter(X[:,0], y)"
   ]
  },
  {
   "cell_type": "code",
   "execution_count": 61,
   "metadata": {},
   "outputs": [
    {
     "data": {
      "text/plain": [
       "<matplotlib.collections.PathCollection at 0xd4b9070>"
      ]
     },
     "execution_count": 61,
     "metadata": {},
     "output_type": "execute_result"
    },
    {
     "data": {
      "image/png": "[encoded data removed]",
      "text/plain": [
       "<Figure size 432x288 with 1 Axes>"
      ]
     },
     "metadata": {
      "image/png": {
       "height": 248,
       "width": 379
      },
      "needs_background": "light"
     },
     "output_type": "display_data"
    }
   ],
   "source": [
    "plt.scatter(X[:,1], y)"
   ]
  },
  {
   "cell_type": "code",
   "execution_count": 62,
   "metadata": {},
   "outputs": [],
   "source": [
    "from sklearn.model_selection import train_test_split"
   ]
  },
  {
   "cell_type": "code",
   "execution_count": 63,
   "metadata": {},
   "outputs": [],
   "source": [
    "X_train , X_test , y_train , y_test = train_test_split (X, y, random_state = 0 )"
   ]
  },
  {
   "cell_type": "code",
   "execution_count": 64,
   "metadata": {},
   "outputs": [
    {
     "data": {
      "text/plain": [
       "PLSRegression(n_components=1)"
      ]
     },
     "execution_count": 64,
     "metadata": {},
     "output_type": "execute_result"
    }
   ],
   "source": [
    "from sklearn.cross_decomposition import PLSRegression\n",
    "pls = PLSRegression ( n_components =1)\n",
    "pls .fit( X_train , y_train )"
   ]
  },
  {
   "cell_type": "code",
   "execution_count": 69,
   "metadata": {},
   "outputs": [
    {
     "data": {
      "text/plain": [
       "LinearRegression()"
      ]
     },
     "execution_count": 69,
     "metadata": {},
     "output_type": "execute_result"
    }
   ],
   "source": [
    "from sklearn.linear_model import LinearRegression\n",
    "lreg = LinearRegression ()\n",
    "lreg.fit( X_train , y_train )"
   ]
  },
  {
   "cell_type": "code",
   "execution_count": 65,
   "metadata": {},
   "outputs": [
    {
     "data": {
      "text/plain": [
       "Pipeline(steps=[('standardscaler', StandardScaler()),\n",
       "                ('pca', PCA(n_components=1)),\n",
       "                ('linearregression', LinearRegression())])"
      ]
     },
     "execution_count": 65,
     "metadata": {},
     "output_type": "execute_result"
    }
   ],
   "source": [
    "from sklearn.pipeline import make_pipeline\n",
    "from sklearn.preprocessing import StandardScaler\n",
    "from sklearn.linear_model import LinearRegression\n",
    "pcr = make_pipeline ( StandardScaler (), PCA( n_components =1), LinearRegression ())\n",
    "pcr.fit( X_train , y_train )"
   ]
  },
  {
   "cell_type": "code",
   "execution_count": 66,
   "metadata": {},
   "outputs": [
    {
     "data": {
      "text/plain": [
       "0.993501019018201"
      ]
     },
     "execution_count": 66,
     "metadata": {},
     "output_type": "execute_result"
    }
   ],
   "source": [
    "pcr.score(X_test, y_test)"
   ]
  },
  {
   "cell_type": "code",
   "execution_count": 67,
   "metadata": {},
   "outputs": [
    {
     "data": {
      "text/plain": [
       "0.9941982334147862"
      ]
     },
     "execution_count": 67,
     "metadata": {},
     "output_type": "execute_result"
    }
   ],
   "source": [
    "pls.score(X_test, y_test)"
   ]
  },
  {
   "cell_type": "code",
   "execution_count": 71,
   "metadata": {},
   "outputs": [
    {
     "data": {
      "text/plain": [
       "0.997953639278241"
      ]
     },
     "execution_count": 71,
     "metadata": {},
     "output_type": "execute_result"
    }
   ],
   "source": [
    "lreg.score(X_test, y_test)"
   ]
  },
  {
   "cell_type": "markdown",
   "metadata": {},
   "source": [
    "## Ergebnis: PLS und PCA sind ähnlich gut! - PCA ist nur sinnvoll zur Reduktion der Datenmenge"
   ]
  },
  {
   "cell_type": "code",
   "execution_count": null,
   "metadata": {},
   "outputs": [],
   "source": []
  },
  {
   "cell_type": "code",
   "execution_count": null,
   "metadata": {},
   "outputs": [],
   "source": []
  }
 ],
 "metadata": {
  "kernelspec": {
   "display_name": "Python 3",
   "language": "python",
   "name": "python3"
  },
  "language_info": {
   "codemirror_mode": {
    "name": "ipython",
    "version": 3
   },
   "file_extension": ".py",
   "mimetype": "text/x-python",
   "name": "python",
   "nbconvert_exporter": "python",
   "pygments_lexer": "ipython3",
   "version": "3.8.5"
  }
 },
 "nbformat": 4,
 "nbformat_minor": 2
}
